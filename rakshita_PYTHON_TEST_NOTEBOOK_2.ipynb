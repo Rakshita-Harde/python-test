{
 "cells": [
  {
   "cell_type": "markdown",
   "metadata": {
    "id": "KCZ2rZ1Q8hn_"
   },
   "source": [
    "# **Python for Data Analysis - Pandas, Numpy and Basic Python.**\n",
    "\n",
    "### Guidelines for the test:\n",
    "1. The test time duration is 2 hours.\n",
    "2. For theory questions add a markdown cell below the question and answer the questions.\n",
    "3. For coding questions add the cells as needed and write the code.\n",
    "4. Make sure the answer is descriptive and contains correct examples as needed.\n",
    "5. After completion of test, upload the test notebook to your github profile and share the link.\n",
    "6. **Do not use any other resources like google, chatgpt, copilot, gemini, deepseeks etc..**"
   ]
  },
  {
   "cell_type": "markdown",
   "metadata": {
    "id": "yK_pevkg90ou"
   },
   "source": [
    "**Q1. Define a Series and a DataFrame in Pandas. Create a Dataframe from Series and dataframe from dictionarry.**\n",
    "\n",
    "* series is one dimensional array that is capable to hold data of any type\n",
    "* syntax: pd.Series()\n",
    "* dataframe is kind of excel in which 2d array can be store in different columns\n",
    "* syntax : pd.DataFrame()"
   ]
  },
  {
   "cell_type": "code",
   "execution_count": 19,
   "metadata": {
    "id": "h5Kopno58ZUe"
   },
   "outputs": [
    {
     "name": "stdout",
     "output_type": "stream",
     "text": [
      "    name  age\n",
      "0  raksh   23\n",
      "1   neha   22\n",
      "2  sneha   21\n"
     ]
    }
   ],
   "source": [
    "import pandas as pd \n",
    "\n",
    "name = pd.Series([\"raksh\",\"neha\",\"sneha\"])\n",
    "age = pd.Series([23,22,21])\n",
    "\n",
    "a= pd.DataFrame({\"name\":name,\n",
    "                 \"age\":age})\n",
    "print(a)"
   ]
  },
  {
   "cell_type": "code",
   "execution_count": 31,
   "metadata": {},
   "outputs": [
    {
     "name": "stdout",
     "output_type": "stream",
     "text": [
      "    name  age  city\n",
      "0  raksh   23   bpq\n",
      "1   neha   22   hyd\n",
      "2  sneha   21  pune\n"
     ]
    }
   ],
   "source": [
    "data = {\"name\" : [\"raksh\",\"neha\",\"sneha\"],\n",
    "        \"age\" : [23,22,21],\n",
    "        \"city\" : [\"bpq\",\"hyd\",\"pune\"]}\n",
    "\n",
    "b = pd.DataFrame(data)\n",
    "print(b)"
   ]
  },
  {
   "cell_type": "markdown",
   "metadata": {
    "id": "BGFcp8ot-G4K"
   },
   "source": [
    "**Q2. Explain the use of groupby() in Pandas with a simple use case.**\n",
    "\n",
    "It is used to split data in groups based on some condition \n",
    "syntax : groupby()\n"
   ]
  },
  {
   "cell_type": "code",
   "execution_count": 39,
   "metadata": {
    "id": "ALwpiFZh8hBn"
   },
   "outputs": [
    {
     "name": "stdout",
     "output_type": "stream",
     "text": [
      "  Class Student\n",
      "0     A     Ram\n",
      "1     A   Shyam\n",
      "2     B   Radha\n",
      "3     B   Geeta\n",
      "4     B   Mohan\n",
      "5     C    Sita\n",
      "Class\n",
      "A    2\n",
      "B    3\n",
      "C    1\n",
      "Name: Student, dtype: int64\n"
     ]
    }
   ],
   "source": [
    "data = {\n",
    "    \"Class\": [\"A\", \"A\", \"B\", \"B\", \"B\", \"C\"],\n",
    "    \"Student\": [\"Ram\", \"Shyam\", \"Radha\", \"Geeta\", \"Mohan\", \"Sita\"]\n",
    "}\n",
    "\n",
    "df = pd.DataFrame(data)\n",
    "print(df)\n",
    "\n",
    "count = df.groupby(\"Class\")[\"Student\"].count()\n",
    "print(count)"
   ]
  },
  {
   "cell_type": "markdown",
   "metadata": {
    "id": "T-EhAXiq-N_f"
   },
   "source": [
    "**Q3.What is the difference between merging and concatenating DataFrames in Pandas? Explain it using an example.**\n",
    "\n",
    "merging : combining two dataframe based on one common column\n",
    "syntax: pd.merge()\n",
    "concatenating : it just like adding a additional data into frame \n",
    "syntax : pd.concat()\n"
   ]
  },
  {
   "cell_type": "code",
   "execution_count": 51,
   "metadata": {
    "id": "-pwq_GHE-liK"
   },
   "outputs": [
    {
     "name": "stdout",
     "output_type": "stream",
     "text": [
      "the merged data is\n",
      "   id   name  age\n",
      "0   1  raksh   23\n",
      "1   2   neha   22\n",
      "2   3  sneha   21\n",
      "the concatenated data is \n",
      "   id   name   age\n",
      "0   1  raksh   NaN\n",
      "1   2   neha   NaN\n",
      "2   3  sneha   NaN\n",
      "0   1    NaN  23.0\n",
      "1   2    NaN  22.0\n",
      "2   3    NaN  21.0\n"
     ]
    }
   ],
   "source": [
    "#merge\n",
    "print(\"the merged data is\")\n",
    "a = pd.DataFrame({ \"id\" : [1,2,3],\n",
    "                  \"name\" : [\"raksh\",\"neha\",\"sneha\"]})\n",
    "b = pd.DataFrame({ \"id\" : [1,2,3],\n",
    "                  \"age\" : [23,22,21]})\n",
    "\n",
    "c = pd.merge(a,b , on=\"id\")\n",
    "print(c)\n",
    "\n",
    "\n",
    "#concat\n",
    "print(\"the concatenated data is \")\n",
    "a = pd.DataFrame({ \"id\" : [1,2,3],\n",
    "                  \"name\" : [\"raksh\",\"neha\",\"sneha\"]})\n",
    "b = pd.DataFrame({ \"id\" : [1,2,3],\n",
    "                  \"age\" : [23,22,21]})\n",
    "\n",
    "c = pd.concat([a,b])\n",
    "print(c)\n",
    "              "
   ]
  },
  {
   "cell_type": "markdown",
   "metadata": {
    "id": "ztp1BnVI-l4f"
   },
   "source": [
    "**Q4. Create a random 10x10 array of numbers between 0 and 100. Then:**\n",
    "\n",
    "- **Replace all values greater than 50 with 50.**\n",
    "- **Calculate the mean of all values between 20 and 40.**\n",
    "- **Extract all even numbers from the array.**"
   ]
  },
  {
   "cell_type": "code",
   "execution_count": 67,
   "metadata": {
    "id": "Xa-ygQSl-8Au"
   },
   "outputs": [
    {
     "name": "stdout",
     "output_type": "stream",
     "text": [
      "[[ 3 60 74 13 59 35 80 23 90  3]\n",
      " [13 90 30 54  3 22 41 66 70 71]\n",
      " [27 22 82 51 54 59 72 71  0 31]\n",
      " [86 73  8 73 90 73  3 66 87 66]\n",
      " [31 72 65 25 60 36 34 45 17 50]\n",
      " [89 96 89 60  7 30 81 32 93 49]\n",
      " [89 20 14 10 23  5 35  3 35 71]\n",
      " [75 95 84  7 50 95 27 43 91 99]\n",
      " [ 8 49 55 72 42 10 72  5 42 22]\n",
      " [89 28 15 16 53 32 54 49 95 96]]\n",
      "[[ 3 50 50 13 50 35 50 23 50  3]\n",
      " [13 50 30 50  3 22 41 50 50 50]\n",
      " [27 22 50 50 50 50 50 50  0 31]\n",
      " [50 50  8 50 50 50  3 50 50 50]\n",
      " [31 50 50 25 50 36 34 45 17 50]\n",
      " [50 50 50 50  7 30 50 32 50 49]\n",
      " [50 20 14 10 23  5 35  3 35 50]\n",
      " [50 50 50  7 50 50 27 43 50 50]\n",
      " [ 8 49 50 50 42 10 50  5 42 22]\n",
      " [50 28 15 16 50 32 50 49 50 50]]\n",
      "mean of values 0.21\n",
      "[50 50 50 50 50 50 30 50 22 50 50 50 22 50 50 50 50 50 50  0 50 50  8 50\n",
      " 50 50 50 50 50 50 50 50 36 34 50 50 50 50 50 30 50 32 50 50 20 14 10 50\n",
      " 50 50 50 50 50 50 50  8 50 50 42 10 50 42 22 50 28 16 50 32 50 50 50]\n"
     ]
    }
   ],
   "source": [
    "import numpy as np\n",
    "arr = np.random.randint(0,101,(10,10))\n",
    "print(arr)\n",
    "arr[arr>50]=50\n",
    "print(arr)\n",
    "d= (arr>=20)&(arr<=40)\n",
    "print(\"mean of values\",d.mean())\n",
    "e = arr[arr%2 == 0]\n",
    "print(e)"
   ]
  },
  {
   "cell_type": "markdown",
   "metadata": {
    "id": "5gpVX0Hh-8bf"
   },
   "source": [
    "**Q5.Create a dataframe in Pandas, add columns such as product name, product id,product price, product sale, product quantity, product discount, region sold.Add atleast 10 records and Display the following using Pandas:**\n",
    "\n",
    "- **The top 5 rows of the dataset**\n",
    "\n",
    "- **Number of unique products sold**\n",
    "\n",
    "- **Total revenue for each region (Revenue = Quantity × Price × (1 - Discount))**\n",
    "- **Create a pivot table showing total Quantity sold per Region and Product.**\n",
    "\n"
   ]
  },
  {
   "cell_type": "code",
   "execution_count": 71,
   "metadata": {
    "id": "WyLtZHCe_wyZ"
   },
   "outputs": [
    {
     "name": "stdout",
     "output_type": "stream",
     "text": [
      "  Product Name  Product ID  Price   Sale  Quantity  Discount Region\n",
      "0       Laptop         201  50000   True         5      0.10   West\n",
      "1        Mouse         202    800   True        30      0.05  North\n",
      "2     Keyboard         203   1500   True        20      0.10  South\n",
      "3      Monitor         204  12000  False        10      0.20   East\n",
      "4      Charger         205   1000   True        25      0.00  South\n",
      "5       Laptop         201  48000   True         3      0.10  North\n",
      "6     Keyboard         203   1400   True        15      0.05   East\n",
      "7        Mouse         202    850   True        35      0.05   West\n",
      "8      Monitor         204  11000  False         7      0.20  South\n",
      "9      Charger         205    950   True        20      0.00  North\n"
     ]
    }
   ],
   "source": [
    "import pandas as pd\n",
    "\n",
    "data = {\n",
    "    \"Product Name\": [\"Laptop\", \"Mouse\", \"Keyboard\", \"Monitor\", \"Charger\",\n",
    "                     \"Laptop\", \"Keyboard\", \"Mouse\", \"Monitor\", \"Charger\"],\n",
    "    \"Product ID\": [201, 202, 203, 204, 205, 201, 203, 202, 204, 205],\n",
    "    \"Price\": [50000, 800, 1500, 12000, 1000, 48000, 1400, 850, 11000, 950],\n",
    "    \"Sale\": [True, True, True, False, True, True, True, True, False, True],\n",
    "    \"Quantity\": [5, 30, 20, 10, 25, 3, 15, 35, 7, 20],\n",
    "    \"Discount\": [0.1, 0.05, 0.1, 0.2, 0, 0.1, 0.05, 0.05, 0.2, 0],\n",
    "    \"Region\": [\"West\", \"North\", \"South\", \"East\", \"South\",\n",
    "               \"North\", \"East\", \"West\", \"South\", \"North\"]\n",
    "}\n",
    "\n",
    "df = pd.DataFrame(data)\n",
    "print (df)"
   ]
  },
  {
   "cell_type": "code",
   "execution_count": 73,
   "metadata": {},
   "outputs": [
    {
     "data": {
      "text/html": [
       "<div>\n",
       "<style scoped>\n",
       "    .dataframe tbody tr th:only-of-type {\n",
       "        vertical-align: middle;\n",
       "    }\n",
       "\n",
       "    .dataframe tbody tr th {\n",
       "        vertical-align: top;\n",
       "    }\n",
       "\n",
       "    .dataframe thead th {\n",
       "        text-align: right;\n",
       "    }\n",
       "</style>\n",
       "<table border=\"1\" class=\"dataframe\">\n",
       "  <thead>\n",
       "    <tr style=\"text-align: right;\">\n",
       "      <th></th>\n",
       "      <th>Product Name</th>\n",
       "      <th>Product ID</th>\n",
       "      <th>Price</th>\n",
       "      <th>Sale</th>\n",
       "      <th>Quantity</th>\n",
       "      <th>Discount</th>\n",
       "      <th>Region</th>\n",
       "    </tr>\n",
       "  </thead>\n",
       "  <tbody>\n",
       "    <tr>\n",
       "      <th>0</th>\n",
       "      <td>Laptop</td>\n",
       "      <td>201</td>\n",
       "      <td>50000</td>\n",
       "      <td>True</td>\n",
       "      <td>5</td>\n",
       "      <td>0.10</td>\n",
       "      <td>West</td>\n",
       "    </tr>\n",
       "    <tr>\n",
       "      <th>1</th>\n",
       "      <td>Mouse</td>\n",
       "      <td>202</td>\n",
       "      <td>800</td>\n",
       "      <td>True</td>\n",
       "      <td>30</td>\n",
       "      <td>0.05</td>\n",
       "      <td>North</td>\n",
       "    </tr>\n",
       "    <tr>\n",
       "      <th>2</th>\n",
       "      <td>Keyboard</td>\n",
       "      <td>203</td>\n",
       "      <td>1500</td>\n",
       "      <td>True</td>\n",
       "      <td>20</td>\n",
       "      <td>0.10</td>\n",
       "      <td>South</td>\n",
       "    </tr>\n",
       "    <tr>\n",
       "      <th>3</th>\n",
       "      <td>Monitor</td>\n",
       "      <td>204</td>\n",
       "      <td>12000</td>\n",
       "      <td>False</td>\n",
       "      <td>10</td>\n",
       "      <td>0.20</td>\n",
       "      <td>East</td>\n",
       "    </tr>\n",
       "    <tr>\n",
       "      <th>4</th>\n",
       "      <td>Charger</td>\n",
       "      <td>205</td>\n",
       "      <td>1000</td>\n",
       "      <td>True</td>\n",
       "      <td>25</td>\n",
       "      <td>0.00</td>\n",
       "      <td>South</td>\n",
       "    </tr>\n",
       "  </tbody>\n",
       "</table>\n",
       "</div>"
      ],
      "text/plain": [
       "  Product Name  Product ID  Price   Sale  Quantity  Discount Region\n",
       "0       Laptop         201  50000   True         5      0.10   West\n",
       "1        Mouse         202    800   True        30      0.05  North\n",
       "2     Keyboard         203   1500   True        20      0.10  South\n",
       "3      Monitor         204  12000  False        10      0.20   East\n",
       "4      Charger         205   1000   True        25      0.00  South"
      ]
     },
     "execution_count": 73,
     "metadata": {},
     "output_type": "execute_result"
    }
   ],
   "source": [
    "df.head()"
   ]
  },
  {
   "cell_type": "code",
   "execution_count": 77,
   "metadata": {},
   "outputs": [
    {
     "data": {
      "text/plain": [
       "Product Name     5\n",
       "Product ID       5\n",
       "Price           10\n",
       "Sale             2\n",
       "Quantity         9\n",
       "Discount         4\n",
       "Region           4\n",
       "dtype: int64"
      ]
     },
     "execution_count": 77,
     "metadata": {},
     "output_type": "execute_result"
    }
   ],
   "source": [
    "df.nunique()"
   ]
  },
  {
   "cell_type": "code",
   "execution_count": 97,
   "metadata": {},
   "outputs": [
    {
     "name": "stdout",
     "output_type": "stream",
     "text": [
      "Region\n",
      "East     115950.0\n",
      "North    171400.0\n",
      "South    113600.0\n",
      "West     253262.5\n",
      "Name: Revenue, dtype: float64\n"
     ]
    }
   ],
   "source": [
    "df[\"Revenue\"] = df[\"Quantity\"] * df[\"Price\"] * (1 - df[\"Discount\"])\n",
    "total = df.groupby(\"Region\")[\"Revenue\"].sum()\n",
    "print( total)"
   ]
  },
  {
   "cell_type": "markdown",
   "metadata": {
    "id": "Ut6dKzce_xLN"
   },
   "source": [
    "**Q6. Using the following sales data:**\n",
    "\n",
    "```\n",
    "sales = pd.DataFrame({\n",
    "    'Date': pd.date_range('2023-01-01', periods=10),\n",
    "    'Product': ['A', 'B', 'A', 'C', 'B', 'A', 'C', 'B', 'A', 'C'],\n",
    "    'Revenue': [100, 150, 120, 80, 160, 110, 90, 170, 130, 85]\n",
    "})\n",
    "```\n",
    "- **Calculate the total revenue per product**\n",
    "\n",
    "- **Find the date with the highest revenue**\n",
    "\n"
   ]
  },
  {
   "cell_type": "code",
   "execution_count": 111,
   "metadata": {
    "id": "9-QRk-W0ARNg"
   },
   "outputs": [
    {
     "name": "stdout",
     "output_type": "stream",
     "text": [
      "        Date Product  Revenue\n",
      "0 2023-01-01       A      100\n",
      "1 2023-01-02       B      150\n",
      "2 2023-01-03       A      120\n",
      "3 2023-01-04       C       80\n",
      "4 2023-01-05       B      160\n",
      "5 2023-01-06       A      110\n",
      "6 2023-01-07       C       90\n",
      "7 2023-01-08       B      170\n",
      "8 2023-01-09       A      130\n",
      "9 2023-01-10       C       85\n",
      "Product\n",
      "A    460\n",
      "B    480\n",
      "C    255\n",
      "Name: Revenue, dtype: int64\n"
     ]
    }
   ],
   "source": [
    "sales = pd.DataFrame({\n",
    "    'Date': pd.date_range('2023-01-01', periods=10),\n",
    "    'Product': ['A', 'B', 'A', 'C', 'B', 'A', 'C', 'B', 'A', 'C'],\n",
    "    'Revenue': [100, 150, 120, 80, 160, 110, 90, 170, 130, 85]\n",
    "})\n",
    "\n",
    "print(sales)\n",
    "\n",
    "total = sales.groupby(\"Product\")[\"Revenue\"].sum()\n",
    "print(total)"
   ]
  },
  {
   "cell_type": "markdown",
   "metadata": {
    "id": "m9kZ86hJAQl2"
   },
   "source": [
    "**Q7.When would you use np.random.choice() vs np.random.randint()? Explain with example.**\n",
    "\n"
   ]
  },
  {
   "cell_type": "code",
   "execution_count": 117,
   "metadata": {
    "id": "fR7CO6qbAzUf"
   },
   "outputs": [
    {
     "name": "stdout",
     "output_type": "stream",
     "text": [
      "18\n"
     ]
    }
   ],
   "source": [
    " #np.random.choice() = it is used when we want to randomly pick array , with repeated elements \n",
    "#syntax : np.random.choice()\n",
    "f = [11,15,16,16, 17 ,18]\n",
    "g =  np.random.choice(f)\n",
    "print(g)"
   ]
  },
  {
   "cell_type": "code",
   "execution_count": 121,
   "metadata": {},
   "outputs": [
    {
     "name": "stdout",
     "output_type": "stream",
     "text": [
      "[[86 15 12]\n",
      " [54 83 33]\n",
      " [77 13 72]]\n"
     ]
    }
   ],
   "source": [
    "#np.random.randint() : it is used when we want to create an array from a specific range of number and also size of an array can be given \n",
    "#syntax = np.random.randint()\n",
    "\n",
    "g =  np.random.randint(10,99, (3,3))\n",
    "print(g)\n"
   ]
  },
  {
   "cell_type": "markdown",
   "metadata": {
    "id": "2YUzAN0kAzs3"
   },
   "source": [
    "**Q8.Create a 1D NumPy array of 100 random integers from 1 to 500.**\n",
    "\n",
    "- **Filter values that are divisible by 5 and greater than 250.**\n",
    "\n",
    "- **Calculate the mean, median, standard deviation of the filtered array**"
   ]
  },
  {
   "cell_type": "code",
   "execution_count": 125,
   "metadata": {
    "id": "CsFkoSNNBNhS"
   },
   "outputs": [
    {
     "name": "stdout",
     "output_type": "stream",
     "text": [
      "[209 385   1 276  70 255 450 373  27  67 447  12 106 343 118 488 242 407\n",
      " 153 457 146 341  33 249 183  28 203  64 456  40 202 220 117 433 133 264\n",
      "  71 294 363 171 243 100 446 160 493 237 374  37 163 446 120 454 240 235\n",
      " 360 209 215 310 374  72 461 357 453 231  22  31 456 461 111 157 461 157\n",
      " 232 296 398 164 212 333  28 327 483 115 223  77 109  36 159 417  99 150\n",
      " 193 259 286 189  51 466 157  89 302 430]\n",
      "[385 255 450 360 310 430]\n",
      "mean 365.0\n",
      "median 372.5\n",
      "standard deviation 67.08203932499369\n"
     ]
    }
   ],
   "source": [
    "arr = np.random.randint(1, 501, size=100)\n",
    "print(arr)\n",
    "\n",
    "filtered = arr[(arr % 5 == 0) & (arr > 250)]\n",
    "print(filtered)\n",
    "\n",
    "print(\"mean\",np.mean(filtered))\n",
    "print(\"median\",np.median(filtered))\n",
    "print(\"standard deviation\",np.std(filtered))"
   ]
  },
  {
   "cell_type": "markdown",
   "metadata": {
    "id": "XZl9xFjnBN85"
   },
   "source": [
    "**Q9.How can you detect and remove duplicate rows in a DataFrame? Explain with an example.**\n",
    "\n"
   ]
  },
  {
   "cell_type": "code",
   "execution_count": 135,
   "metadata": {
    "id": "-_t8Z4yOBY13"
   },
   "outputs": [
    {
     "name": "stdout",
     "output_type": "stream",
     "text": [
      "Original DataFrame:\n",
      "  Name  Age\n",
      "0   ab   22\n",
      "1   cd   25\n",
      "2   ef   22\n",
      "3   gh   30\n",
      "after duplicates is removed\n",
      "  Name  Age\n",
      "0   ab   22\n",
      "1   cd   25\n",
      "2   ef   22\n",
      "3   gh   30\n"
     ]
    }
   ],
   "source": [
    "#we can detect the duplicates by using .duplicate()  and remove them by using .drop_duplicate() \n",
    "\n",
    "df = pd.DataFrame({\n",
    "    'Name': ['ab', 'cd', 'ef', 'gh'],\n",
    "    'Age': [22, 25, 22, 30]\n",
    "})\n",
    "\n",
    "print(\"Original DataFrame:\")\n",
    "print(df)\n",
    "\n",
    "i = df.drop_duplicates()\n",
    "print(\"after duplicates is removed\")\n",
    "print(i)"
   ]
  },
  {
   "cell_type": "markdown",
   "metadata": {
    "id": "uqf5FiNGBZLr"
   },
   "source": [
    "**Q10.What is the purpose of the agg() function in Pandas? Provide two examples of its use.**\n",
    "\n"
   ]
  },
  {
   "cell_type": "code",
   "execution_count": null,
   "metadata": {
    "id": "MR5R_ACxByek"
   },
   "outputs": [],
   "source": [
    "agg() = aggregate funtion is used"
   ]
  },
  {
   "cell_type": "markdown",
   "metadata": {
    "id": "7lYgTTb6Byx-"
   },
   "source": [
    "**Q11. Describe three different ways to filter rows in a Pandas DataFrame.**\n"
   ]
  },
  {
   "cell_type": "code",
   "execution_count": null,
   "metadata": {
    "id": "WXbhMBu-B7Rc"
   },
   "outputs": [],
   "source": []
  },
  {
   "cell_type": "markdown",
   "metadata": {
    "id": "C8WnxSbtB7nH"
   },
   "source": [
    "**Q12. Given:**\n",
    "\n",
    "```\n",
    "a = np.array([1, 2, 3, 4, 5])\n",
    "b = np.array([10, 9, 8, 7, 6])\n",
    "```\n",
    "\n",
    "- **Create a 2D array where the first row is a and second row is b**\n",
    "\n",
    "- **Swap the first and last columns of this new array**\n",
    "\n",
    "- **Reverse the elements along the second axis**"
   ]
  },
  {
   "cell_type": "code",
   "execution_count": 139,
   "metadata": {
    "id": "Ft7711apCRiy"
   },
   "outputs": [
    {
     "name": "stdout",
     "output_type": "stream",
     "text": [
      "[[ 1  2  3  4  5]\n",
      " [10  9  8  7  6]]\n",
      "[[ 5  4  3  2  1]\n",
      " [ 6  7  8  9 10]]\n"
     ]
    }
   ],
   "source": [
    "a = np.array([1, 2, 3, 4, 5])\n",
    "b = np.array([10, 9, 8, 7, 6])\n",
    "\n",
    "arr = np.array([a, b])\n",
    "print( arr)\n",
    "\n",
    "rarr = arr[:, ::-1]\n",
    "print( rarr)"
   ]
  },
  {
   "cell_type": "markdown",
   "metadata": {
    "id": "wiSSHqZgCR2a"
   },
   "source": [
    "**Q13. What is the difference between np.nan, None, and pd.NA in data handling?**"
   ]
  },
  {
   "cell_type": "code",
   "execution_count": null,
   "metadata": {
    "id": "40M9O6mXCmFv"
   },
   "outputs": [],
   "source": []
  },
  {
   "cell_type": "markdown",
   "metadata": {
    "id": "NE3seMlNCmZX"
   },
   "source": [
    "**Q14. What is the use of df.query() in Pandas? Explain with example.**\n"
   ]
  },
  {
   "cell_type": "code",
   "execution_count": null,
   "metadata": {
    "id": "_93RrY21C8pu"
   },
   "outputs": [],
   "source": []
  },
  {
   "cell_type": "markdown",
   "metadata": {
    "id": "fqVkt3-xC8_0"
   },
   "source": [
    "**Q15. What are the key differences between np.array() and pd.Series()?**\n",
    "\n"
   ]
  },
  {
   "cell_type": "code",
   "execution_count": null,
   "metadata": {
    "id": "srI1QT8eDGKm"
   },
   "outputs": [],
   "source": [
    "np.array()= used for numerical operation to create an array \n",
    "pd.Series() = one-dimensional array used for data analysis."
   ]
  },
  {
   "cell_type": "markdown",
   "metadata": {
    "id": "zo8hlnaADGgH"
   },
   "source": [
    "**Q16. Assuming the dataset you've created in Q5, Filter all rows where:**\n",
    "- **Discount is between 0.1 and 0.3 (inclusive)**\n",
    "\n",
    "- **AND Region is not 'South'**\n",
    "\n",
    "- **AND Revenue > 500**"
   ]
  },
  {
   "cell_type": "code",
   "execution_count": 145,
   "metadata": {
    "id": "JPiEmiOKDehq"
   },
   "outputs": [
    {
     "name": "stdout",
     "output_type": "stream",
     "text": [
      "  Product  Discount Region  Revenue\n",
      "2   lappy      0.25   East      700\n",
      "3   mouse      0.30   West      800\n"
     ]
    }
   ],
   "source": [
    "j= pd.DataFrame({\n",
    "    'Product': ['mob', 'cell', 'lappy', 'mouse', 'cpu'],\n",
    "    'Discount': [0.05, 0.15, 0.25, 0.30, 0.20],\n",
    "    'Region': ['North', 'South', 'East', 'West', 'South'],\n",
    "    'Revenue': [400, 600, 700, 800, 550]\n",
    "})\n",
    "\n",
    "filtered = j[\n",
    "    (j['Discount'] >= 0.1) &\n",
    "    (j['Discount'] <= 0.3) &\n",
    "    (j['Region'] != 'South') &\n",
    "    (j['Revenue'] > 500)\n",
    "]\n",
    "\n",
    "print(filtered)"
   ]
  },
  {
   "cell_type": "markdown",
   "metadata": {
    "id": "n7hlmStUDezz"
   },
   "source": [
    "**Q17. Create a dataset where you have customer purchase frequency and revenue columns along with sales, product, region, product price etc.. Add 25-30 records and:**\n",
    "\n",
    "**Create 3 segments:**\n",
    "\n",
    "- **High Value (high revenue & high frequency)**\n",
    "\n",
    "- **Low Value (low revenue)**\n",
    "\n",
    "- **Occasional (low frequency)**\n",
    "\n",
    "- **Count customers in each segment**"
   ]
  },
  {
   "cell_type": "code",
   "execution_count": null,
   "metadata": {
    "id": "S4gNjDxaFNrP"
   },
   "outputs": [],
   "source": []
  }
 ],
 "metadata": {
  "colab": {
   "provenance": []
  },
  "kernelspec": {
   "display_name": "Python [conda env:base] *",
   "language": "python",
   "name": "conda-base-py"
  },
  "language_info": {
   "codemirror_mode": {
    "name": "ipython",
    "version": 3
   },
   "file_extension": ".py",
   "mimetype": "text/x-python",
   "name": "python",
   "nbconvert_exporter": "python",
   "pygments_lexer": "ipython3",
   "version": "3.12.7"
  }
 },
 "nbformat": 4,
 "nbformat_minor": 4
}
